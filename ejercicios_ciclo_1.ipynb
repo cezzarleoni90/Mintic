{
  "nbformat": 4,
  "nbformat_minor": 0,
  "metadata": {
    "colab": {
      "provenance": [],
      "collapsed_sections": [],
      "authorship_tag": "ABX9TyMfRTC07qhbhUYl+7uI9zXW",
      "include_colab_link": true
    },
    "kernelspec": {
      "name": "python3",
      "display_name": "Python 3"
    },
    "language_info": {
      "name": "python"
    }
  },
  "cells": [
    {
      "cell_type": "markdown",
      "metadata": {
        "id": "view-in-github",
        "colab_type": "text"
      },
      "source": [
        "<a href=\"https://colab.research.google.com/github/cezzarleoni90/Mintic/blob/main/ejercicios_ciclo_1.ipynb\" target=\"_parent\"><img src=\"https://colab.research.google.com/assets/colab-badge.svg\" alt=\"Open In Colab\"/></a>"
      ]
    },
    {
      "cell_type": "code",
      "source": [
        "nombre_estudiante = \"Cesar\"\n",
        "print(f\"Hola\",nombre_estudiante,\", bienvenido al curso.\")"
      ],
      "metadata": {
        "id": "W1G87uQa2_qe"
      },
      "execution_count": null,
      "outputs": []
    },
    {
      "cell_type": "code",
      "source": [
        "valor1 = input(\"Ingrese numero: \")\n",
        "valor2 = 13\n",
        "print(eval(valor1)+valor2)\n"
      ],
      "metadata": {
        "id": "hSVYSBXRwif1"
      },
      "execution_count": null,
      "outputs": []
    },
    {
      "cell_type": "code",
      "source": [
        "# formato para imprimir variasvariables F\n",
        "\n",
        "estudiante = input(\"Ingrese su nombre\")\n",
        "curso = float(input(\"Curso numero: ? \"))\n",
        "print(f\"Hola {estudiante}, bienvenido al curso {curso} del mintic.\")"
      ],
      "metadata": {
        "id": "soUsm40s6d6z"
      },
      "execution_count": null,
      "outputs": []
    },
    {
      "cell_type": "code",
      "source": [
        "#DEF \n",
        "def curso_mintic():\n",
        "  nombre_alumno = input(\"Ingrese su nombre: \")\n",
        "  edad = int(input(\"Ingrese su edad\"))\n",
        "  grado = input(\"Ingrese su grado\")\n",
        "  print(f\"Hola {nombre_alumno}, su edad es {edad} años y cursa el grado {grado}°\")\n",
        "  return   0\n",
        "  "
      ],
      "metadata": {
        "id": "t03PSRFfXspp"
      },
      "execution_count": null,
      "outputs": []
    },
    {
      "cell_type": "code",
      "source": [
        "def incremetar_arriendo(valor_incremento, tiva):\n",
        "  valor_arriendo = 1000\n",
        "  valor_arriendo_total = valor_arriendo + valor_incremento + tiva\n",
        "  print(f\"El valor del nuevo arriendo es {valor_arriendo_total}\")\n",
        " "
      ],
      "metadata": {
        "id": "PCkuWPrZdiKz"
      },
      "execution_count": null,
      "outputs": []
    },
    {
      "cell_type": "code",
      "source": [
        "# IF - OR - AND -\n",
        "\n",
        "nombre = input(\"Ingrese su nombre\")\n",
        "edad = int(input(\"Ingrese su edad\"))\n",
        "\n",
        "if nombre == \"luisa\" or edad > 18:\n",
        "  print(f\"{nombre} yo le voleo como a rata!\")\n",
        "else:\n",
        "  print(f\"{nombre} vaya a que se la piche un burro!\")    \n"
      ],
      "metadata": {
        "id": "98n_zIYFj2bx"
      },
      "execution_count": null,
      "outputs": []
    },
    {
      "cell_type": "code",
      "source": [
        "def ejercicio(valor_producto, tiene_iva):\n",
        "  iva = 0.19  \n",
        "  if tiene_iva == 'si':\n",
        "    valor_total = valor_producto + (valor_producto * iva)\n",
        "    print(f\"El producto tiene un costo de ${valor_producto} y con iva ${valor_total}. \")\n",
        "  else:\n",
        "    print(f\"El precio del producto es {valor_producto}, y no tiene iva.\" )\n",
        "\n"
      ],
      "metadata": {
        "id": "1Hh60o0HqWRT"
      },
      "execution_count": null,
      "outputs": []
    },
    {
      "cell_type": "code",
      "source": [
        "ejercicio(300, 'si')"
      ],
      "metadata": {
        "id": "GcXcQ7nA8qMh"
      },
      "execution_count": null,
      "outputs": []
    },
    {
      "cell_type": "markdown",
      "source": [
        "[texto del enlace](https://)#    LISTAS  / CREAR LISTAS / MODIFICAR / INSERTAR / ELIMINAR"
      ],
      "metadata": {
        "id": "LTRHX0LhQyJg"
      }
    },
    {
      "cell_type": "code",
      "source": [
        "mi_lista1 = [\"soy\",\"yo\",\"cesar\"]\n",
        "print(mi_lista1)"
      ],
      "metadata": {
        "colab": {
          "base_uri": "https://localhost:8080/"
        },
        "id": "5oBDr1_7Q9fm",
        "outputId": "9dd62f9e-5785-4ae8-b43a-abcb82f80241"
      },
      "execution_count": null,
      "outputs": [
        {
          "output_type": "stream",
          "name": "stdout",
          "text": [
            "['soy', 'yo', 'cesar']\n"
          ]
        }
      ]
    },
    {
      "cell_type": "code",
      "source": [
        "frutas = ['Banano','Sandia','Pera','Papaya']\n",
        "print(frutas)\n",
        "frutas[0]"
      ],
      "metadata": {
        "id": "5z0_chxHSBKW"
      },
      "execution_count": null,
      "outputs": []
    },
    {
      "cell_type": "code",
      "source": [
        "# INSERT para INSERTAR algo a la lista .inset(posicion,'melon)\n",
        "\n",
        "frutas.insert(3,'Melon')"
      ],
      "metadata": {
        "id": "rLDVa_X2TOGm"
      },
      "execution_count": null,
      "outputs": []
    },
    {
      "cell_type": "code",
      "source": [
        "# INSERTAR  a la lista = .APPEND('DATOS A INSERTAR') se agrega en la ultima posicion\n",
        "frutas.append('mandarina')"
      ],
      "metadata": {
        "id": "_30cNDuya3aV"
      },
      "execution_count": null,
      "outputs": []
    },
    {
      "cell_type": "code",
      "source": [
        "frutas"
      ],
      "metadata": {
        "id": "S7qIBxfxTRm1",
        "colab": {
          "base_uri": "https://localhost:8080/"
        },
        "outputId": "c03f5e31-2404-48e0-cba2-ee2b705a5394"
      },
      "execution_count": null,
      "outputs": [
        {
          "output_type": "execute_result",
          "data": {
            "text/plain": [
              "['mandarina',\n",
              " 'papaya',\n",
              " 'mango',\n",
              " 'Melon',\n",
              " 'kiwi',\n",
              " 'mandarina',\n",
              " 'papaya',\n",
              " 'mango',\n",
              " 'kiwi',\n",
              " 'mandarina']"
            ]
          },
          "metadata": {},
          "execution_count": 41
        }
      ]
    },
    {
      "cell_type": "code",
      "source": [
        "personas = ['Cesar','David','Sneider','Duvan','Sandra','Ines']\n",
        "print(personas)"
      ],
      "metadata": {
        "colab": {
          "base_uri": "https://localhost:8080/"
        },
        "id": "YUueKaNhTwb0",
        "outputId": "49ed9936-c556-4c80-8cbb-2fec704022da"
      },
      "execution_count": null,
      "outputs": [
        {
          "output_type": "stream",
          "name": "stdout",
          "text": [
            "['Cesar', 'David', 'Sneider', 'Duvan', 'Sandra', 'Ines']\n"
          ]
        }
      ]
    },
    {
      "cell_type": "code",
      "source": [
        "# LEN para CONTAR la longitud de una lista LEN(LISTA)\n",
        "len(personas)"
      ],
      "metadata": {
        "id": "Iwp8qtH3Ux1F",
        "colab": {
          "base_uri": "https://localhost:8080/"
        },
        "outputId": "42469f67-9b8a-493c-c4f4-f3433d021e19"
      },
      "execution_count": null,
      "outputs": [
        {
          "output_type": "execute_result",
          "data": {
            "text/plain": [
              "6"
            ]
          },
          "metadata": {},
          "execution_count": 5
        }
      ]
    },
    {
      "cell_type": "code",
      "source": [
        "#REMOVE para ELIMINAR algo de la lista\n",
        "personas.remove(\"Sneider\")"
      ],
      "metadata": {
        "id": "terhD6H9ViRE"
      },
      "execution_count": null,
      "outputs": []
    },
    {
      "cell_type": "code",
      "source": [
        "personas2 = ['julian','pedrito','sancho','pipe','juancho']\n",
        "print(personas2)"
      ],
      "metadata": {
        "colab": {
          "base_uri": "https://localhost:8080/"
        },
        "id": "LZczuMr8YDOa",
        "outputId": "595f0226-8070-4bc6-95e6-5fd9c60ee8c9"
      },
      "execution_count": null,
      "outputs": [
        {
          "output_type": "stream",
          "name": "stdout",
          "text": [
            "['julian', 'pedrito', 'sancho', 'pipe', 'juancho']\n"
          ]
        }
      ]
    },
    {
      "cell_type": "code",
      "source": [
        "# REVERSE = .reverse() \n",
        "personas2.reverse()\n",
        "personas2"
      ],
      "metadata": {
        "colab": {
          "base_uri": "https://localhost:8080/"
        },
        "id": "-nJYYdqii142",
        "outputId": "0a7d16c5-1710-4c79-b218-071689353be7"
      },
      "execution_count": null,
      "outputs": [
        {
          "output_type": "execute_result",
          "data": {
            "text/plain": [
              "['juancho', 'pipe', 'sancho', 'pedrito', 'julian']"
            ]
          },
          "metadata": {},
          "execution_count": 70
        }
      ]
    },
    {
      "cell_type": "code",
      "source": [
        "personas2.clear()"
      ],
      "metadata": {
        "id": "Pncvd8umZqAr"
      },
      "execution_count": null,
      "outputs": []
    },
    {
      "cell_type": "code",
      "source": [
        "persona_eliminada = personas2.pop(3)\n",
        "print(persona_eliminada)\n"
      ],
      "metadata": {
        "id": "9Q9L-7awZuer"
      },
      "execution_count": null,
      "outputs": []
    },
    {
      "cell_type": "code",
      "source": [
        "lista_nueva = ['Banano','Zapote','Helado','Banano','Banano','Banano','Banano','Banano','Banano','Banano',]\n",
        "print(lista_nueva)\n",
        "\n"
      ],
      "metadata": {
        "id": "FOg0i6StZvqL"
      },
      "execution_count": null,
      "outputs": []
    },
    {
      "cell_type": "code",
      "source": [
        "#Buscar UBICACION en la lista   INDEX\n",
        "#Index\n",
        "lista_nueva.index('Helado')\n"
      ],
      "metadata": {
        "id": "UW9AQpHTgRrn"
      },
      "execution_count": null,
      "outputs": []
    },
    {
      "cell_type": "code",
      "source": [
        "verduras = ['papa criolla','tomate','cebolla','pimenton']\n",
        "frutas = ['mandarina','papaya','mango','kiwi']"
      ],
      "metadata": {
        "id": "c5Mp30yDd3rn"
      },
      "execution_count": null,
      "outputs": []
    },
    {
      "cell_type": "code",
      "source": [
        "legumbreria = frutas + verduras\n",
        "print(legumbreria)"
      ],
      "metadata": {
        "id": "gneYVLgpeRjl"
      },
      "execution_count": null,
      "outputs": []
    },
    {
      "cell_type": "code",
      "source": [
        "colores = ['amarillo','azul','rojo','verde','morado']\n",
        "colores\n"
      ],
      "metadata": {
        "id": "dbrt28hJUIBj"
      },
      "execution_count": null,
      "outputs": []
    },
    {
      "cell_type": "code",
      "source": [
        "# SLICING \\\\\\\\ UBICACION DE DATOS EN LA LISTA \\\\ POSICION INICIAL A POCICION FINAL\n",
        "\n",
        "colores[0:-2]"
      ],
      "metadata": {
        "id": "u8MNaETPVqFT"
      },
      "execution_count": null,
      "outputs": []
    },
    {
      "cell_type": "code",
      "source": [
        "# ordenar lista alfabeticamnete .SORT() - ASCENDETE = .SORT(REVESER = TRUE)\n",
        "\n",
        "colores.sort(reverse = True)\n",
        "colores"
      ],
      "metadata": {
        "colab": {
          "base_uri": "https://localhost:8080/"
        },
        "id": "wB81iPTsXMIk",
        "outputId": "090129b8-7c33-492e-e108-f52e1c1f3b1d"
      },
      "execution_count": null,
      "outputs": [
        {
          "output_type": "execute_result",
          "data": {
            "text/plain": [
              "['verde', 'rojo', 'morado', 'azul', 'amarillo']"
            ]
          },
          "metadata": {},
          "execution_count": 35
        }
      ]
    },
    {
      "cell_type": "code",
      "source": [
        "# saber POSICION de datos en la lista .INDEX('')\n",
        "colores.index('rojo')"
      ],
      "metadata": {
        "id": "0e5fqqTaXlf0"
      },
      "execution_count": null,
      "outputs": []
    },
    {
      "cell_type": "code",
      "source": [
        "colores.append('fucsia')\n",
        "colores"
      ],
      "metadata": {
        "id": "RGxoIFZ6aTil"
      },
      "execution_count": null,
      "outputs": []
    },
    {
      "cell_type": "code",
      "source": [],
      "metadata": {
        "id": "O8rBD3FwcmgV"
      },
      "execution_count": null,
      "outputs": []
    },
    {
      "cell_type": "markdown",
      "source": [
        "CICLOS:\n",
        "\n",
        "* FOR = NOSOTROS SABERMOS CUANTAS ITERACIONES VA A REALIZAR\n",
        "* WHILE = NO SABERMOS CUANTO VA A ITERAR, FINALIZA CUANDO SE CUMPLA O NU UNA CONDICION"
      ],
      "metadata": {
        "id": "8-TrWVdAcnIJ"
      }
    },
    {
      "cell_type": "code",
      "source": [
        "# RANGO = RANGE\n",
        "for pacientes in range(0, 10, 1): # RANGE(POSICION INICIAL,FINAL,INCREMENTOS ):\n",
        "  print(pacientes)"
      ],
      "metadata": {
        "id": "iJANyOjFdSBh"
      },
      "execution_count": null,
      "outputs": []
    },
    {
      "cell_type": "code",
      "source": [
        "frutas = ['Banano','Papaya','Durazno','Sandia']\n",
        "print(frutas[0])\n",
        "print(frutas[1])\n",
        "print(frutas[2])\n",
        "print(frutas[3])"
      ],
      "metadata": {
        "id": "rO4Q9iald-ZF"
      },
      "execution_count": null,
      "outputs": []
    },
    {
      "cell_type": "code",
      "source": [
        "for fruta in frutas:\n",
        "  print(fruta)"
      ],
      "metadata": {
        "id": "VzUr5WMggHgl"
      },
      "execution_count": null,
      "outputs": []
    },
    {
      "cell_type": "code",
      "source": [
        "# iterar HASTA cunplir una CONDICION\n",
        "for fruta in frutas:\n",
        "    print(fruta)\n",
        "    if fruta == 'Durazno':\n",
        "      break"
      ],
      "metadata": {
        "id": "mi-MAs0-hoNG"
      },
      "execution_count": null,
      "outputs": []
    },
    {
      "cell_type": "code",
      "source": [
        "for fila in range (0,15,1):\n",
        "  print('')\n",
        "  for columna in range ( 0 ,fila +1 , 1 ):\n",
        "    print('cesar ', end = '')\n",
        "  "
      ],
      "metadata": {
        "id": "TBPgbBcdjeNm"
      },
      "execution_count": null,
      "outputs": []
    },
    {
      "cell_type": "markdown",
      "source": [
        "CICLOS:\n",
        "\n",
        "CICLO FOR: Se carateriza principalmente por a priori sabemos la cantidad de interacciones que realiza\n",
        "\n",
        "CICLO WHILE: Esta ciclo pude ser infinito, sin embargo se va a ejecutar hasta que se cumpla o no una condicion.\n"
      ],
      "metadata": {
        "id": "v3oJWW386nUv"
      }
    },
    {
      "cell_type": "code",
      "source": [
        "for num in range(1,11,1):\n",
        "  print(num, end = ' ')"
      ],
      "metadata": {
        "id": "Rj5LpE2d7NvK"
      },
      "execution_count": null,
      "outputs": []
    },
    {
      "cell_type": "markdown",
      "source": [
        "# CICLO WHILE"
      ],
      "metadata": {
        "id": "CZ9Qni-E_1NK"
      }
    },
    {
      "cell_type": "code",
      "source": [
        "minutos = 0\n",
        "\n",
        "while minutos <= 6:\n",
        "  print('Estudiar!', end = \" \")\n",
        "  minutos = minutos + 1\n",
        "\n",
        "print(f\"Se llego el minuto {minutos}, a descansar!\")\n",
        "\n"
      ],
      "metadata": {
        "colab": {
          "base_uri": "https://localhost:8080/"
        },
        "id": "aMV9d8RD_ocb",
        "outputId": "36beca4d-08c8-4fe2-a6c0-7d3bb7704798"
      },
      "execution_count": null,
      "outputs": [
        {
          "output_type": "stream",
          "name": "stdout",
          "text": [
            "Estudiar! Estudiar! Estudiar! Estudiar! Estudiar! Estudiar! Estudiar! Se llego el minuto 7, a descansar!\n"
          ]
        }
      ]
    },
    {
      "cell_type": "code",
      "source": [
        "numero_adivinar   = 6\n",
        "numero_usuario    = -1\n",
        "numero_intentos   = 3\n",
        "contador_intentos = 0\n",
        "\n",
        "while numero_adivinar != numero_usuario:\n",
        "  numero_usuario = int(input('Ingrese un numero para adivinar: '))\n",
        "  contador_intentos += 1\n",
        "  if contador_intentos == numero_intentos:\n",
        "    print('Game over!')\n",
        "    break\n",
        "\n",
        "  if numero_usuario == numero_adivinar:\n",
        "    print('Felicitaciones, has ganado!')\n",
        "  else:\n",
        "    print('Sigue intentando.')"
      ],
      "metadata": {
        "id": "-tyguAQJEq7e"
      },
      "execution_count": null,
      "outputs": []
    },
    {
      "cell_type": "markdown",
      "source": [
        "EJERCICIO RETO\n",
        "\n",
        "Usten y un grupo de maigo esta realizando una rifa de 1.00.000 de pesoso para recaudar fondos en pro de los habitantes de calle.\n",
        "\n",
        "Cada participante debe adivinar un numero entre 0 y b (incluidos, b y n son los mismos para cada participante) cada concursante va a ingresando un numero entre 0 y b, y mientras no haya acertado, el sistema debera identificar si el numero esta por encima o por debajo del numero ganador. Una vez adivinado el sistema debera imprimir a los cuantos intentos el participante logro adivinar el numero, sera el juerado el encargado de dar como ganadsor a quien haya adivinado en menos intentos.\n"
      ],
      "metadata": {
        "id": "VlPKB56-k0IP"
      }
    },
    {
      "cell_type": "code",
      "source": [
        "min_num = 0\n",
        "max_num = 15\n",
        "numero_usuario = -1\n",
        "numero_adivinar = 3\n",
        "numero_intentos = 0\n",
        "\n",
        "while numero_usuario != numero_adivinar:\n",
        "  numero_usuario = int(input('Ingrese un numero a adivinar: '))\n",
        "  \n",
        "  \n",
        "  if (numero_usuario < min_num) and (numero_usuario > max_num):    \n",
        "    numero_intentos += 1\n",
        "\n",
        "    if numero_usuario == numero_adivinar:\n",
        "      print(\"Ganaste!\")\n",
        "      print(f\"Numero de intentos: {numero_intentos}\")\n",
        "      break\n",
        "\n",
        "    elif numero_usuario > numero_adivinar:\n",
        "      print(\"Su numero es mayor del numero a adivinar\")  \n",
        "\n",
        "    elif numero_usuario < numero_adivinar:\n",
        "      print(\"El numero es menor del numero a adivinar\")  \n",
        "  else:\n",
        "    print(\"El numero ingresado esta por fuera del rango!\")  \n",
        "\n"
      ],
      "metadata": {
        "id": "ykeyjUJlmCjT"
      },
      "execution_count": null,
      "outputs": []
    },
    {
      "cell_type": "code",
      "source": [],
      "metadata": {
        "id": "ayWdngFNtz5V"
      },
      "execution_count": null,
      "outputs": []
    },
    {
      "cell_type": "markdown",
      "source": [
        "RETO EJERCICIO CALCULADORA\n",
        "\n",
        "Usted ha sido contratado por la tienda de su barrio para hacer una calculadora que facilite llevaar al tendero la cuenta de una compra.\n",
        "El programa le solicita cula es el valor unitario de un producto que lleve el cliente (ain iva incluido) El programa le pregunta al tendero si el pruducto tiene iva.\n",
        "\n",
        "*El programa le solicita al tendero cual es la contidad que lleva de ese prodicto\n",
        "\n",
        "* Si el producto tiene iva, el sistema dede sumarlo e imprimir en consola EXACTAMENTE las siguientes palabras: 'PRODUCTO SIN IVA', el IVA se asume del 19%\n",
        " rama imprime el subtotal EXACTAMENTE como sigue: \"SUBTOTAl: x \" donde x es el subtotal(cantidad de deinero a cobrarse hasta ese insante).\n",
        "\n",
        "*El progrmaam le preguntara al tendero si faltan productos por cobrar en esa compra.\n",
        "\n",
        "*CUnado el tendero termina de realizar el corbro, el programa debe imprimir la cuenta total a cobrarle al cliente en esa compra. EXACTAMENTE  como sigue: \"TOTAL A COBRAR: y\" y donde es el valor total a cobrarle al cliente."
      ],
      "metadata": {
        "id": "iHxUpC_8t0xV"
      }
    },
    {
      "cell_type": "code",
      "source": [
        "\n",
        "iva                = 0.19\n",
        "total              = 0\n",
        "ingresar_prod      = True\n",
        "while ingresar_prod:  \n",
        "  ingresar_prod =  bool(int(input(\"Desea comprar algo mas? \")))\n",
        "  if ingresar_prod == False:\n",
        "    print(\"Saliendo de la tienda..\")\n",
        "    break\n",
        "    \n",
        "  else:\n",
        "    valor_unitario     = int(input(\"Ingrese el valor unitario del producto: \"))\n",
        "    tiene_iva          = input(\"El producto tiene iva S/N? \")\n",
        "    cantidad_prod      = int(input(\"Ingrese la cantidad a vender\"))\n",
        "    if tiene_iva == 'S':\n",
        "      total += ((valor_unitario) * (iva + valor_unitario) * (cantidad_prod))\n",
        "      print(f\"Valor con iva es {total}\")\n",
        "\n",
        "    else:\n",
        "     total += valor_unitario"
      ],
      "metadata": {
        "colab": {
          "base_uri": "https://localhost:8080/"
        },
        "id": "Q7hTMLciwk3F",
        "outputId": "8856dcdf-fb15-4e79-9b0b-c536609f5a1e"
      },
      "execution_count": null,
      "outputs": [
        {
          "output_type": "stream",
          "name": "stdout",
          "text": [
            "Desea comprar algo mas? 0\n",
            "Saliendo de la tienda..\n"
          ]
        }
      ]
    },
    {
      "cell_type": "markdown",
      "source": [
        "TUPLAS"
      ],
      "metadata": {
        "id": "fjjrqK_uJFua"
      }
    },
    {
      "cell_type": "code",
      "source": [
        "mi_tupla = ('Banano','Ciruela','Kiwi','Sandia')"
      ],
      "metadata": {
        "id": "NPSxCVJKJHxJ"
      },
      "execution_count": null,
      "outputs": []
    },
    {
      "cell_type": "code",
      "source": [
        "mi_tupla"
      ],
      "metadata": {
        "colab": {
          "base_uri": "https://localhost:8080/"
        },
        "id": "apSbEgCVKG2R",
        "outputId": "f68b4a21-96a0-45f5-8292-abee452ec726"
      },
      "execution_count": null,
      "outputs": [
        {
          "output_type": "execute_result",
          "data": {
            "text/plain": [
              "('Banano', 'Ciruela', 'Kiwi', 'Sandia')"
            ]
          },
          "metadata": {},
          "execution_count": 142
        }
      ]
    },
    {
      "cell_type": "code",
      "source": [
        "len(mi_tupla) # Contar cuantos valores hay.  LEN(TUPLA)"
      ],
      "metadata": {
        "colab": {
          "base_uri": "https://localhost:8080/"
        },
        "id": "o5ehI-z-KKIJ",
        "outputId": "35557020-e7b2-45da-9b15-1d3049ec5731"
      },
      "execution_count": null,
      "outputs": [
        {
          "output_type": "execute_result",
          "data": {
            "text/plain": [
              "4"
            ]
          },
          "metadata": {},
          "execution_count": 143
        }
      ]
    },
    {
      "cell_type": "code",
      "source": [
        "mi_tupla[0:3]  #SLICING tomar una porcion de un conjunto de datos  mitupla[inicial:hasta]"
      ],
      "metadata": {
        "colab": {
          "base_uri": "https://localhost:8080/"
        },
        "id": "nEBu5GyHKesI",
        "outputId": "3416f1bb-6656-418c-e6f0-5f64a34b0f04"
      },
      "execution_count": null,
      "outputs": [
        {
          "output_type": "execute_result",
          "data": {
            "text/plain": [
              "('Banano', 'Ciruela', 'Kiwi')"
            ]
          },
          "metadata": {},
          "execution_count": 145
        }
      ]
    },
    {
      "cell_type": "code",
      "source": [
        "datos_bancarios = ('cesar','10325435','medellin','ahorros')\n",
        "datos_bancarios\n"
      ],
      "metadata": {
        "colab": {
          "base_uri": "https://localhost:8080/"
        },
        "id": "ZbFUfbhiMAcq",
        "outputId": "a91bb4b5-abd3-4aba-e436-702bc59ed8b5"
      },
      "execution_count": null,
      "outputs": [
        {
          "output_type": "execute_result",
          "data": {
            "text/plain": [
              "('cesar', '10325435', 'medellin', 'ahorros')"
            ]
          },
          "metadata": {},
          "execution_count": 148
        }
      ]
    },
    {
      "cell_type": "code",
      "source": [
        "# sacar u ordenar datos de una tupla\n",
        "\n",
        "nombre = datos_bancarios[0]\n",
        "cedula = datos_bancarios[1]\n",
        "ciudad = datos_bancarios[2]\n",
        "tipo   = datos_bancarios[3]\n",
        "\n",
        "nombre, cedula, tipo, ciudad"
      ],
      "metadata": {
        "colab": {
          "base_uri": "https://localhost:8080/"
        },
        "id": "J9pwSc5zMjJ7",
        "outputId": "6a6a0374-87d5-4330-e634-829fd216ad6a"
      },
      "execution_count": null,
      "outputs": [
        {
          "output_type": "execute_result",
          "data": {
            "text/plain": [
              "('cesar', '10325435', 'ahorros', 'medellin')"
            ]
          },
          "metadata": {},
          "execution_count": 150
        }
      ]
    },
    {
      "cell_type": "code",
      "source": [
        "#contar cantidad de un elemento = cuentos 'mangos' hay \n",
        "#  .COUNT('ELEMENTO')\n",
        "mi_tupla.count('Banano')"
      ],
      "metadata": {
        "colab": {
          "base_uri": "https://localhost:8080/"
        },
        "id": "VdT0BaxLNADa",
        "outputId": "3e52232f-a5cc-428d-de01-cf7deddfdc6b"
      },
      "execution_count": null,
      "outputs": [
        {
          "output_type": "execute_result",
          "data": {
            "text/plain": [
              "1"
            ]
          },
          "metadata": {},
          "execution_count": 151
        }
      ]
    },
    {
      "cell_type": "code",
      "source": [
        "# INDEX  // CONOCER LA POSICION DEL ELEMENT\n",
        "\n",
        "mi_tupla.index('Banano')"
      ],
      "metadata": {
        "colab": {
          "base_uri": "https://localhost:8080/"
        },
        "id": "gBpf_uiWN0CK",
        "outputId": "58155c1c-1bdb-4770-c656-4e0347c45b1b"
      },
      "execution_count": null,
      "outputs": [
        {
          "output_type": "execute_result",
          "data": {
            "text/plain": [
              "0"
            ]
          },
          "metadata": {},
          "execution_count": 152
        }
      ]
    },
    {
      "cell_type": "markdown",
      "source": [
        "TUPLAS VS LISTAS\n",
        "\n",
        "TUPLAS = ('elemen','element2','element') son inmutables\n",
        "\n",
        "LISTA = ['elemen','element2','element'] se pueden modificar"
      ],
      "metadata": {
        "id": "BZw8KsKdOsod"
      }
    },
    {
      "cell_type": "code",
      "source": [
        "balones = ('Rojo','Verde','Verde','Rojo','Azul','Azul')"
      ],
      "metadata": {
        "id": "dgGNP_EhPHzz"
      },
      "execution_count": null,
      "outputs": []
    },
    {
      "cell_type": "code",
      "source": [
        "contador_balones_verdes = 0\n",
        "\n",
        "for balon in balones:\n",
        "  if balon =='Verde':\n",
        "    contador_balones_verdes += 1\n",
        "print(f\"La cantidad de balones verdes es {contador_balones_verdes}\")    "
      ],
      "metadata": {
        "colab": {
          "base_uri": "https://localhost:8080/"
        },
        "id": "UlZT_l6yQ22a",
        "outputId": "d37ccf16-fa9b-4c45-8c28-c0de4704e567"
      },
      "execution_count": null,
      "outputs": [
        {
          "output_type": "stream",
          "name": "stdout",
          "text": [
            "La cantidad de balones verdes es 2\n"
          ]
        }
      ]
    },
    {
      "cell_type": "markdown",
      "source": [
        "CONJUNTOS \n"
      ],
      "metadata": {
        "id": "ihAMLLSobBP1"
      }
    },
    {
      "cell_type": "code",
      "source": [
        "numeros = {1,2,3,4,5,6,7,8,9,9,9,9,91,88,77,44,5}"
      ],
      "metadata": {
        "id": "lrje1Yf_bF_t"
      },
      "execution_count": null,
      "outputs": []
    },
    {
      "cell_type": "code",
      "source": [
        "frutas = {'Babano','Sandia','Banano','pina','Melon','Melon'}"
      ],
      "metadata": {
        "id": "y9fFlXFGbYE8"
      },
      "execution_count": null,
      "outputs": []
    },
    {
      "cell_type": "markdown",
      "source": [
        "DICCIONARIOS  "
      ],
      "metadata": {
        "id": "5YfWqH43iHvS"
      }
    },
    {
      "cell_type": "code",
      "source": [
        "my_dicc = {'Nombre_estudiante' : 'Cesar', 'Edad' : 20 , 'Nota_curso' : 4.3}"
      ],
      "metadata": {
        "id": "p8_Y_9fJiL4e"
      },
      "execution_count": null,
      "outputs": []
    },
    {
      "cell_type": "code",
      "source": [
        "my_dicc"
      ],
      "metadata": {
        "colab": {
          "base_uri": "https://localhost:8080/"
        },
        "id": "OHHybY4ijMhe",
        "outputId": "eea6d2a3-33e7-45dc-bc81-9d67c229bd49"
      },
      "execution_count": null,
      "outputs": [
        {
          "output_type": "execute_result",
          "data": {
            "text/plain": [
              "{'Nombre_estudiante': 'Cesar', 'Edad': 20, 'Nota_curso': 4.3}"
            ]
          },
          "metadata": {},
          "execution_count": 158
        }
      ]
    },
    {
      "cell_type": "code",
      "source": [
        "my_dicc['Nota_curso']\n"
      ],
      "metadata": {
        "colab": {
          "base_uri": "https://localhost:8080/"
        },
        "id": "_iYn5AxPjPHO",
        "outputId": "6567fb6a-a23f-4d38-e741-0d5f1bb3eacf"
      },
      "execution_count": null,
      "outputs": [
        {
          "output_type": "execute_result",
          "data": {
            "text/plain": [
              "4.3"
            ]
          },
          "metadata": {},
          "execution_count": 162
        }
      ]
    },
    {
      "cell_type": "code",
      "source": [
        "my_dicc['Edad']"
      ],
      "metadata": {
        "colab": {
          "base_uri": "https://localhost:8080/"
        },
        "id": "GYSUrzEIj8be",
        "outputId": "26e06af4-aa0c-46ab-efcb-34dc803779a7"
      },
      "execution_count": null,
      "outputs": [
        {
          "output_type": "execute_result",
          "data": {
            "text/plain": [
              "20"
            ]
          },
          "metadata": {},
          "execution_count": 163
        }
      ]
    },
    {
      "cell_type": "code",
      "source": [
        "estudiantes = {\n",
        "    'estudiante1' : {\n",
        "        'nombre' : 'Pepito',\n",
        "        'edad' : 20,\n",
        "        'materias' : {\n",
        "            1001 : {\n",
        "                'nombre' : 'Fundamentos de programacion',\n",
        "                'notas' : [4.3, 3.4, 5, 2.2]\n",
        "            }\n",
        "      }\n",
        "},\n",
        "'estudiante2' : {\n",
        "    'nombre' : 'Pepito',\n",
        "    'edad' : 13,\n",
        "    'materias' : {\n",
        "        1001 : {\n",
        "            'nombre' : 'Fundamentos de programacion',\n",
        "            'notas' : [3.4, 5, 4.4, 3.4]\n",
        "        },\n",
        "        1002 : {\n",
        "            'nombre' : 'Ingles' , \n",
        "            'notas' : [2.5, 3]\n",
        "          }\n",
        "      \n",
        "       }\n",
        "    \n",
        "    }\n",
        "}"
      ],
      "metadata": {
        "id": "N_0PVsybjUWO"
      },
      "execution_count": null,
      "outputs": []
    },
    {
      "cell_type": "code",
      "source": [
        "estudiantes['estudiante2']['materias'].update({1003 : \n",
        "                                               {'nombre' : 'Religion' , 'notas' : [4.5, 3.3, 4, 4.3]}})"
      ],
      "metadata": {
        "id": "eo0TO1lFvbvh"
      },
      "execution_count": null,
      "outputs": []
    },
    {
      "cell_type": "code",
      "source": [
        "estudiantes['estudiante2']"
      ],
      "metadata": {
        "colab": {
          "base_uri": "https://localhost:8080/"
        },
        "id": "7-CxASgPwGTA",
        "outputId": "07d05b96-5f8a-4586-d3c4-f63766918c43"
      },
      "execution_count": null,
      "outputs": [
        {
          "output_type": "execute_result",
          "data": {
            "text/plain": [
              "{'nombre': 'Pepito',\n",
              " 'edad': 13,\n",
              " 'materias': {1001: {'nombre': 'Fundamentos de programacion',\n",
              "   'notas': [3.4, 5, 4.4, 3.4]},\n",
              "  1002: {'nombre': 'Ingles', 'notas': [2.5, 3]},\n",
              "  'nombre': 'Religion',\n",
              "  'notas': [4.5, 3.3, 4, 4.3],\n",
              "  1003: {'nombre': 'Religion', 'notas': [4.5, 3.3, 4, 4.3]}}}"
            ]
          },
          "metadata": {},
          "execution_count": 174
        }
      ]
    },
    {
      "cell_type": "code",
      "source": [
        "listaPalabras = ('Gladis', 5, 4, 'Sonia', 1, 3, 'Gladis', 5, 4, 'Gladis', 5, 4, 'Gladis', 5, 2, 'Gladis', 3, 1, 'Sonia', 3, 1, 'Sonia', 3, 'Sonia', 5, 1 ,'Sonia', 2, 1, 'Gladis', 1, 2)\n"
      ],
      "metadata": {
        "id": "l4BkD30hpyeL"
      },
      "execution_count": null,
      "outputs": []
    },
    {
      "cell_type": "code",
      "source": [
        "listaPalabras"
      ],
      "metadata": {
        "id": "HiZLguYhxAMY"
      },
      "execution_count": null,
      "outputs": []
    },
    {
      "cell_type": "code",
      "source": [
        "cuentaGladis = listaPalabras.count('Gladis')\n",
        "pantalonesGladis = 0\n",
        "camisasGladis = 0\n",
        "\n",
        "cuentaSonia = listaPalabras.count('Sonia')\n",
        "pantalonesSonia = 0\n",
        "camisasSonia = 0\n",
        "\n"
      ],
      "metadata": {
        "id": "-XzMH69bxMbR"
      },
      "execution_count": null,
      "outputs": []
    },
    {
      "cell_type": "code",
      "source": [],
      "metadata": {
        "id": "8PM8374RynWj"
      },
      "execution_count": null,
      "outputs": []
    }
  ]
}